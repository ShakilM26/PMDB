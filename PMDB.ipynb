{
  "nbformat": 4,
  "nbformat_minor": 0,
  "metadata": {
    "colab": {
      "name": "PMDB.ipynb",
      "provenance": [],
      "collapsed_sections": [],
      "authorship_tag": "ABX9TyPz7tSGblVEwV7xLN35G19l",
      "include_colab_link": true
    },
    "kernelspec": {
      "name": "python3",
      "display_name": "Python 3"
    },
    "language_info": {
      "name": "python"
    }
  },
  "cells": [
    {
      "cell_type": "markdown",
      "metadata": {
        "id": "view-in-github",
        "colab_type": "text"
      },
      "source": [
        "<a href=\"https://colab.research.google.com/github/ShakilM26/PMDB/blob/main/PMDB.ipynb\" target=\"_parent\"><img src=\"https://colab.research.google.com/assets/colab-badge.svg\" alt=\"Open In Colab\"/></a>"
      ]
    },
    {
      "cell_type": "code",
      "execution_count": 1,
      "metadata": {
        "id": "KjMi5SvemL_g"
      },
      "outputs": [],
      "source": [
        "import pandas as pd\n",
        "import numpy as np\n",
        "import matplotlib.pyplot as plt\n",
        "import seaborn as sns"
      ]
    },
    {
      "cell_type": "code",
      "source": [
        "df=pd.read_csv('cinema.csv')\n",
        "df.head()"
      ],
      "metadata": {
        "colab": {
          "base_uri": "https://localhost:8080/",
          "height": 374
        },
        "id": "pinz5J-xmddl",
        "outputId": "4a751ad1-346a-4c12-b4ad-ada79ce2a325"
      },
      "execution_count": 3,
      "outputs": [
        {
          "output_type": "execute_result",
          "data": {
            "text/plain": [
              "   Year              Name            Director             Genre  IMDB  \\\n",
              "0  2020             Tenet   Christopher nolan     Sci-fi/Action   7.4   \n",
              "1  2020              WW84       Patty Jenkins  Superhero/Action   5.4   \n",
              "2  2012  Django Unchained   Quentin Tarantino    Western/Action   8.4   \n",
              "3  2020            Onward         Dan Scanlon  Animation/Family   7.4   \n",
              "4  2019             Polar      Jonas Åkerlund   Action/Thriller   6.3   \n",
              "\n",
              "   Rotten Tomatoes  Metacritic Country  Personal Rating Comics Animation  \\\n",
              "0               69          69     USA              7.5     no        no   \n",
              "1               58          60     USA              5.0    yes        no   \n",
              "2               87          81     USA              8.5     no        no   \n",
              "3               88          61     USA              7.0     no       yes   \n",
              "4               19          19     USA              6.0     no        no   \n",
              "\n",
              "  TV_Series  Budget  Box_office Runtime  Google_user    Month  \n",
              "0        no   200.0       363.0     150           85  January  \n",
              "1        no   200.0       167.0     151           67  January  \n",
              "2        no   100.0       425.0     165           93  January  \n",
              "3        no   185.0       142.0     102           81  January  \n",
              "4        no     0.0         0.0     118           77  January  "
            ],
            "text/html": [
              "\n",
              "  <div id=\"df-e76735c0-7589-4ed2-981d-4db68febe1d9\">\n",
              "    <div class=\"colab-df-container\">\n",
              "      <div>\n",
              "<style scoped>\n",
              "    .dataframe tbody tr th:only-of-type {\n",
              "        vertical-align: middle;\n",
              "    }\n",
              "\n",
              "    .dataframe tbody tr th {\n",
              "        vertical-align: top;\n",
              "    }\n",
              "\n",
              "    .dataframe thead th {\n",
              "        text-align: right;\n",
              "    }\n",
              "</style>\n",
              "<table border=\"1\" class=\"dataframe\">\n",
              "  <thead>\n",
              "    <tr style=\"text-align: right;\">\n",
              "      <th></th>\n",
              "      <th>Year</th>\n",
              "      <th>Name</th>\n",
              "      <th>Director</th>\n",
              "      <th>Genre</th>\n",
              "      <th>IMDB</th>\n",
              "      <th>Rotten Tomatoes</th>\n",
              "      <th>Metacritic</th>\n",
              "      <th>Country</th>\n",
              "      <th>Personal Rating</th>\n",
              "      <th>Comics</th>\n",
              "      <th>Animation</th>\n",
              "      <th>TV_Series</th>\n",
              "      <th>Budget</th>\n",
              "      <th>Box_office</th>\n",
              "      <th>Runtime</th>\n",
              "      <th>Google_user</th>\n",
              "      <th>Month</th>\n",
              "    </tr>\n",
              "  </thead>\n",
              "  <tbody>\n",
              "    <tr>\n",
              "      <th>0</th>\n",
              "      <td>2020</td>\n",
              "      <td>Tenet</td>\n",
              "      <td>Christopher nolan</td>\n",
              "      <td>Sci-fi/Action</td>\n",
              "      <td>7.4</td>\n",
              "      <td>69</td>\n",
              "      <td>69</td>\n",
              "      <td>USA</td>\n",
              "      <td>7.5</td>\n",
              "      <td>no</td>\n",
              "      <td>no</td>\n",
              "      <td>no</td>\n",
              "      <td>200.0</td>\n",
              "      <td>363.0</td>\n",
              "      <td>150</td>\n",
              "      <td>85</td>\n",
              "      <td>January</td>\n",
              "    </tr>\n",
              "    <tr>\n",
              "      <th>1</th>\n",
              "      <td>2020</td>\n",
              "      <td>WW84</td>\n",
              "      <td>Patty Jenkins</td>\n",
              "      <td>Superhero/Action</td>\n",
              "      <td>5.4</td>\n",
              "      <td>58</td>\n",
              "      <td>60</td>\n",
              "      <td>USA</td>\n",
              "      <td>5.0</td>\n",
              "      <td>yes</td>\n",
              "      <td>no</td>\n",
              "      <td>no</td>\n",
              "      <td>200.0</td>\n",
              "      <td>167.0</td>\n",
              "      <td>151</td>\n",
              "      <td>67</td>\n",
              "      <td>January</td>\n",
              "    </tr>\n",
              "    <tr>\n",
              "      <th>2</th>\n",
              "      <td>2012</td>\n",
              "      <td>Django Unchained</td>\n",
              "      <td>Quentin Tarantino</td>\n",
              "      <td>Western/Action</td>\n",
              "      <td>8.4</td>\n",
              "      <td>87</td>\n",
              "      <td>81</td>\n",
              "      <td>USA</td>\n",
              "      <td>8.5</td>\n",
              "      <td>no</td>\n",
              "      <td>no</td>\n",
              "      <td>no</td>\n",
              "      <td>100.0</td>\n",
              "      <td>425.0</td>\n",
              "      <td>165</td>\n",
              "      <td>93</td>\n",
              "      <td>January</td>\n",
              "    </tr>\n",
              "    <tr>\n",
              "      <th>3</th>\n",
              "      <td>2020</td>\n",
              "      <td>Onward</td>\n",
              "      <td>Dan Scanlon</td>\n",
              "      <td>Animation/Family</td>\n",
              "      <td>7.4</td>\n",
              "      <td>88</td>\n",
              "      <td>61</td>\n",
              "      <td>USA</td>\n",
              "      <td>7.0</td>\n",
              "      <td>no</td>\n",
              "      <td>yes</td>\n",
              "      <td>no</td>\n",
              "      <td>185.0</td>\n",
              "      <td>142.0</td>\n",
              "      <td>102</td>\n",
              "      <td>81</td>\n",
              "      <td>January</td>\n",
              "    </tr>\n",
              "    <tr>\n",
              "      <th>4</th>\n",
              "      <td>2019</td>\n",
              "      <td>Polar</td>\n",
              "      <td>Jonas Åkerlund</td>\n",
              "      <td>Action/Thriller</td>\n",
              "      <td>6.3</td>\n",
              "      <td>19</td>\n",
              "      <td>19</td>\n",
              "      <td>USA</td>\n",
              "      <td>6.0</td>\n",
              "      <td>no</td>\n",
              "      <td>no</td>\n",
              "      <td>no</td>\n",
              "      <td>0.0</td>\n",
              "      <td>0.0</td>\n",
              "      <td>118</td>\n",
              "      <td>77</td>\n",
              "      <td>January</td>\n",
              "    </tr>\n",
              "  </tbody>\n",
              "</table>\n",
              "</div>\n",
              "      <button class=\"colab-df-convert\" onclick=\"convertToInteractive('df-e76735c0-7589-4ed2-981d-4db68febe1d9')\"\n",
              "              title=\"Convert this dataframe to an interactive table.\"\n",
              "              style=\"display:none;\">\n",
              "        \n",
              "  <svg xmlns=\"http://www.w3.org/2000/svg\" height=\"24px\"viewBox=\"0 0 24 24\"\n",
              "       width=\"24px\">\n",
              "    <path d=\"M0 0h24v24H0V0z\" fill=\"none\"/>\n",
              "    <path d=\"M18.56 5.44l.94 2.06.94-2.06 2.06-.94-2.06-.94-.94-2.06-.94 2.06-2.06.94zm-11 1L8.5 8.5l.94-2.06 2.06-.94-2.06-.94L8.5 2.5l-.94 2.06-2.06.94zm10 10l.94 2.06.94-2.06 2.06-.94-2.06-.94-.94-2.06-.94 2.06-2.06.94z\"/><path d=\"M17.41 7.96l-1.37-1.37c-.4-.4-.92-.59-1.43-.59-.52 0-1.04.2-1.43.59L10.3 9.45l-7.72 7.72c-.78.78-.78 2.05 0 2.83L4 21.41c.39.39.9.59 1.41.59.51 0 1.02-.2 1.41-.59l7.78-7.78 2.81-2.81c.8-.78.8-2.07 0-2.86zM5.41 20L4 18.59l7.72-7.72 1.47 1.35L5.41 20z\"/>\n",
              "  </svg>\n",
              "      </button>\n",
              "      \n",
              "  <style>\n",
              "    .colab-df-container {\n",
              "      display:flex;\n",
              "      flex-wrap:wrap;\n",
              "      gap: 12px;\n",
              "    }\n",
              "\n",
              "    .colab-df-convert {\n",
              "      background-color: #E8F0FE;\n",
              "      border: none;\n",
              "      border-radius: 50%;\n",
              "      cursor: pointer;\n",
              "      display: none;\n",
              "      fill: #1967D2;\n",
              "      height: 32px;\n",
              "      padding: 0 0 0 0;\n",
              "      width: 32px;\n",
              "    }\n",
              "\n",
              "    .colab-df-convert:hover {\n",
              "      background-color: #E2EBFA;\n",
              "      box-shadow: 0px 1px 2px rgba(60, 64, 67, 0.3), 0px 1px 3px 1px rgba(60, 64, 67, 0.15);\n",
              "      fill: #174EA6;\n",
              "    }\n",
              "\n",
              "    [theme=dark] .colab-df-convert {\n",
              "      background-color: #3B4455;\n",
              "      fill: #D2E3FC;\n",
              "    }\n",
              "\n",
              "    [theme=dark] .colab-df-convert:hover {\n",
              "      background-color: #434B5C;\n",
              "      box-shadow: 0px 1px 3px 1px rgba(0, 0, 0, 0.15);\n",
              "      filter: drop-shadow(0px 1px 2px rgba(0, 0, 0, 0.3));\n",
              "      fill: #FFFFFF;\n",
              "    }\n",
              "  </style>\n",
              "\n",
              "      <script>\n",
              "        const buttonEl =\n",
              "          document.querySelector('#df-e76735c0-7589-4ed2-981d-4db68febe1d9 button.colab-df-convert');\n",
              "        buttonEl.style.display =\n",
              "          google.colab.kernel.accessAllowed ? 'block' : 'none';\n",
              "\n",
              "        async function convertToInteractive(key) {\n",
              "          const element = document.querySelector('#df-e76735c0-7589-4ed2-981d-4db68febe1d9');\n",
              "          const dataTable =\n",
              "            await google.colab.kernel.invokeFunction('convertToInteractive',\n",
              "                                                     [key], {});\n",
              "          if (!dataTable) return;\n",
              "\n",
              "          const docLinkHtml = 'Like what you see? Visit the ' +\n",
              "            '<a target=\"_blank\" href=https://colab.research.google.com/notebooks/data_table.ipynb>data table notebook</a>'\n",
              "            + ' to learn more about interactive tables.';\n",
              "          element.innerHTML = '';\n",
              "          dataTable['output_type'] = 'display_data';\n",
              "          await google.colab.output.renderOutput(dataTable, element);\n",
              "          const docLink = document.createElement('div');\n",
              "          docLink.innerHTML = docLinkHtml;\n",
              "          element.appendChild(docLink);\n",
              "        }\n",
              "      </script>\n",
              "    </div>\n",
              "  </div>\n",
              "  "
            ]
          },
          "metadata": {},
          "execution_count": 3
        }
      ]
    },
    {
      "cell_type": "code",
      "source": [
        "#check null value\n",
        "\n",
        "df.isnull().sum()"
      ],
      "metadata": {
        "colab": {
          "base_uri": "https://localhost:8080/"
        },
        "id": "ZdzbZlOYmnE7",
        "outputId": "95c5fa1a-6b95-40ad-b45b-c2dd1f116348"
      },
      "execution_count": 4,
      "outputs": [
        {
          "output_type": "execute_result",
          "data": {
            "text/plain": [
              "Year               0\n",
              "Name               0\n",
              "Director           0\n",
              "Genre              0\n",
              "IMDB               0\n",
              "Rotten Tomatoes    0\n",
              "Metacritic         0\n",
              "Country            0\n",
              "Personal Rating    0\n",
              "Comics             0\n",
              "Animation          0\n",
              "TV_Series          0\n",
              "Budget             0\n",
              "Box_office         0\n",
              "Runtime            0\n",
              "Google_user        0\n",
              "Month              0\n",
              "dtype: int64"
            ]
          },
          "metadata": {},
          "execution_count": 4
        }
      ]
    },
    {
      "cell_type": "code",
      "source": [
        "#check notnull value\n",
        "\n",
        "df.notnull().sum()"
      ],
      "metadata": {
        "colab": {
          "base_uri": "https://localhost:8080/"
        },
        "id": "koGaruUlm1fv",
        "outputId": "6e2c189f-fcd1-4d39-e089-4a1bf4312d50"
      },
      "execution_count": 6,
      "outputs": [
        {
          "output_type": "execute_result",
          "data": {
            "text/plain": [
              "Year               220\n",
              "Name               220\n",
              "Director           220\n",
              "Genre              220\n",
              "IMDB               220\n",
              "Rotten Tomatoes    220\n",
              "Metacritic         220\n",
              "Country            220\n",
              "Personal Rating    220\n",
              "Comics             220\n",
              "Animation          220\n",
              "TV_Series          220\n",
              "Budget             220\n",
              "Box_office         220\n",
              "Runtime            220\n",
              "Google_user        220\n",
              "Month              220\n",
              "dtype: int64"
            ]
          },
          "metadata": {},
          "execution_count": 6
        }
      ]
    },
    {
      "cell_type": "code",
      "source": [
        "# Find specific columns null value\n",
        "\n",
        "df['Year'].isnull().sum()"
      ],
      "metadata": {
        "colab": {
          "base_uri": "https://localhost:8080/"
        },
        "id": "z9ee-fIJmnQK",
        "outputId": "a07a833f-caf8-46ef-a79b-bbe5e349dfc6"
      },
      "execution_count": 5,
      "outputs": [
        {
          "output_type": "execute_result",
          "data": {
            "text/plain": [
              "0"
            ]
          },
          "metadata": {},
          "execution_count": 5
        }
      ]
    },
    {
      "cell_type": "code",
      "source": [
        "# If there was any null value\n",
        "\n",
        "df.dropna(axis=1, how='any').shape"
      ],
      "metadata": {
        "colab": {
          "base_uri": "https://localhost:8080/"
        },
        "id": "89S-CT1ImnT-",
        "outputId": "707a7303-bb60-4327-fd22-166ebcddb96e"
      },
      "execution_count": 7,
      "outputs": [
        {
          "output_type": "execute_result",
          "data": {
            "text/plain": [
              "(220, 17)"
            ]
          },
          "metadata": {},
          "execution_count": 7
        }
      ]
    },
    {
      "cell_type": "code",
      "source": [
        "# How many movies have I seen\n",
        "# 1st method\n",
        "\n",
        "len(df[df['TV_Series']=='no'])"
      ],
      "metadata": {
        "colab": {
          "base_uri": "https://localhost:8080/"
        },
        "id": "46S8OsHXmnXT",
        "outputId": "675383e3-dad4-4b5f-8faa-743a89a7e02a"
      },
      "execution_count": 8,
      "outputs": [
        {
          "output_type": "execute_result",
          "data": {
            "text/plain": [
              "206"
            ]
          },
          "metadata": {},
          "execution_count": 8
        }
      ]
    },
    {
      "cell_type": "code",
      "source": [
        "# 2nd method\n",
        "\n",
        "len(df[df['TV_Series'].str.contains('no')])"
      ],
      "metadata": {
        "colab": {
          "base_uri": "https://localhost:8080/"
        },
        "id": "8xvvmqJvmnaZ",
        "outputId": "879c7114-a020-40c5-c2a1-f3444505cac9"
      },
      "execution_count": 9,
      "outputs": [
        {
          "output_type": "execute_result",
          "data": {
            "text/plain": [
              "206"
            ]
          },
          "metadata": {},
          "execution_count": 9
        }
      ]
    },
    {
      "cell_type": "code",
      "source": [
        "# How many tv_series have I seen\n",
        "\n",
        "len(df[df['TV_Series']=='yes'])"
      ],
      "metadata": {
        "colab": {
          "base_uri": "https://localhost:8080/"
        },
        "id": "5uFVwraimndF",
        "outputId": "1acf6508-5002-4af7-bba1-454533fdaf12"
      },
      "execution_count": 10,
      "outputs": [
        {
          "output_type": "execute_result",
          "data": {
            "text/plain": [
              "14"
            ]
          },
          "metadata": {},
          "execution_count": 10
        }
      ]
    },
    {
      "cell_type": "code",
      "source": [
        "# How many animation have I seen\n",
        "\n",
        "len(df[df['Animation']=='yes'])"
      ],
      "metadata": {
        "colab": {
          "base_uri": "https://localhost:8080/"
        },
        "id": "tyYLqSX_mngR",
        "outputId": "afd07149-9749-4cc8-9e69-230dc924c34b"
      },
      "execution_count": 11,
      "outputs": [
        {
          "output_type": "execute_result",
          "data": {
            "text/plain": [
              "27"
            ]
          },
          "metadata": {},
          "execution_count": 11
        }
      ]
    },
    {
      "cell_type": "code",
      "source": [
        "# How many animation movies have I seen \n",
        "\n",
        "len(df[(df['TV_Series']=='no') & (df['Animation']=='yes')])"
      ],
      "metadata": {
        "colab": {
          "base_uri": "https://localhost:8080/"
        },
        "id": "nIQBp-1YmnjG",
        "outputId": "f2c9f3b0-a1ce-4cfd-aeed-3d5c60b4831d"
      },
      "execution_count": 12,
      "outputs": [
        {
          "output_type": "execute_result",
          "data": {
            "text/plain": [
              "26"
            ]
          },
          "metadata": {},
          "execution_count": 12
        }
      ]
    },
    {
      "cell_type": "code",
      "source": [
        "# The answer is 26. Total animation result was 27. So  \n",
        "# I can say there is one tv-series animation I have seen. "
      ],
      "metadata": {
        "id": "cFcVA0kQoS1B"
      },
      "execution_count": 14,
      "outputs": []
    },
    {
      "cell_type": "code",
      "source": [
        "# Here it is \n",
        "\n",
        "df.loc[(df['TV_Series']=='yes') & (df['Animation']=='yes')]"
      ],
      "metadata": {
        "colab": {
          "base_uri": "https://localhost:8080/",
          "height": 179
        },
        "id": "hJzkVEs-otGB",
        "outputId": "8a766278-7c81-404c-b36e-835a2ea1e1be"
      },
      "execution_count": 16,
      "outputs": [
        {
          "output_type": "execute_result",
          "data": {
            "text/plain": [
              "     Year        Name       Director             Genre  IMDB  Rotten Tomatoes  \\\n",
              "173  2021  What...If?  Bryan Andrews  Superhero/Action   7.5               94   \n",
              "\n",
              "     Metacritic Country  Personal Rating Comics Animation TV_Series  Budget  \\\n",
              "173          69     USA              7.5    yes       yes       yes     0.0   \n",
              "\n",
              "     Box_office Runtime  Google_user     Month  \n",
              "173         0.0   30-37           88  November  "
            ],
            "text/html": [
              "\n",
              "  <div id=\"df-c130b91b-843b-46ce-8103-23d173fb5cfa\">\n",
              "    <div class=\"colab-df-container\">\n",
              "      <div>\n",
              "<style scoped>\n",
              "    .dataframe tbody tr th:only-of-type {\n",
              "        vertical-align: middle;\n",
              "    }\n",
              "\n",
              "    .dataframe tbody tr th {\n",
              "        vertical-align: top;\n",
              "    }\n",
              "\n",
              "    .dataframe thead th {\n",
              "        text-align: right;\n",
              "    }\n",
              "</style>\n",
              "<table border=\"1\" class=\"dataframe\">\n",
              "  <thead>\n",
              "    <tr style=\"text-align: right;\">\n",
              "      <th></th>\n",
              "      <th>Year</th>\n",
              "      <th>Name</th>\n",
              "      <th>Director</th>\n",
              "      <th>Genre</th>\n",
              "      <th>IMDB</th>\n",
              "      <th>Rotten Tomatoes</th>\n",
              "      <th>Metacritic</th>\n",
              "      <th>Country</th>\n",
              "      <th>Personal Rating</th>\n",
              "      <th>Comics</th>\n",
              "      <th>Animation</th>\n",
              "      <th>TV_Series</th>\n",
              "      <th>Budget</th>\n",
              "      <th>Box_office</th>\n",
              "      <th>Runtime</th>\n",
              "      <th>Google_user</th>\n",
              "      <th>Month</th>\n",
              "    </tr>\n",
              "  </thead>\n",
              "  <tbody>\n",
              "    <tr>\n",
              "      <th>173</th>\n",
              "      <td>2021</td>\n",
              "      <td>What...If?</td>\n",
              "      <td>Bryan Andrews</td>\n",
              "      <td>Superhero/Action</td>\n",
              "      <td>7.5</td>\n",
              "      <td>94</td>\n",
              "      <td>69</td>\n",
              "      <td>USA</td>\n",
              "      <td>7.5</td>\n",
              "      <td>yes</td>\n",
              "      <td>yes</td>\n",
              "      <td>yes</td>\n",
              "      <td>0.0</td>\n",
              "      <td>0.0</td>\n",
              "      <td>30-37</td>\n",
              "      <td>88</td>\n",
              "      <td>November</td>\n",
              "    </tr>\n",
              "  </tbody>\n",
              "</table>\n",
              "</div>\n",
              "      <button class=\"colab-df-convert\" onclick=\"convertToInteractive('df-c130b91b-843b-46ce-8103-23d173fb5cfa')\"\n",
              "              title=\"Convert this dataframe to an interactive table.\"\n",
              "              style=\"display:none;\">\n",
              "        \n",
              "  <svg xmlns=\"http://www.w3.org/2000/svg\" height=\"24px\"viewBox=\"0 0 24 24\"\n",
              "       width=\"24px\">\n",
              "    <path d=\"M0 0h24v24H0V0z\" fill=\"none\"/>\n",
              "    <path d=\"M18.56 5.44l.94 2.06.94-2.06 2.06-.94-2.06-.94-.94-2.06-.94 2.06-2.06.94zm-11 1L8.5 8.5l.94-2.06 2.06-.94-2.06-.94L8.5 2.5l-.94 2.06-2.06.94zm10 10l.94 2.06.94-2.06 2.06-.94-2.06-.94-.94-2.06-.94 2.06-2.06.94z\"/><path d=\"M17.41 7.96l-1.37-1.37c-.4-.4-.92-.59-1.43-.59-.52 0-1.04.2-1.43.59L10.3 9.45l-7.72 7.72c-.78.78-.78 2.05 0 2.83L4 21.41c.39.39.9.59 1.41.59.51 0 1.02-.2 1.41-.59l7.78-7.78 2.81-2.81c.8-.78.8-2.07 0-2.86zM5.41 20L4 18.59l7.72-7.72 1.47 1.35L5.41 20z\"/>\n",
              "  </svg>\n",
              "      </button>\n",
              "      \n",
              "  <style>\n",
              "    .colab-df-container {\n",
              "      display:flex;\n",
              "      flex-wrap:wrap;\n",
              "      gap: 12px;\n",
              "    }\n",
              "\n",
              "    .colab-df-convert {\n",
              "      background-color: #E8F0FE;\n",
              "      border: none;\n",
              "      border-radius: 50%;\n",
              "      cursor: pointer;\n",
              "      display: none;\n",
              "      fill: #1967D2;\n",
              "      height: 32px;\n",
              "      padding: 0 0 0 0;\n",
              "      width: 32px;\n",
              "    }\n",
              "\n",
              "    .colab-df-convert:hover {\n",
              "      background-color: #E2EBFA;\n",
              "      box-shadow: 0px 1px 2px rgba(60, 64, 67, 0.3), 0px 1px 3px 1px rgba(60, 64, 67, 0.15);\n",
              "      fill: #174EA6;\n",
              "    }\n",
              "\n",
              "    [theme=dark] .colab-df-convert {\n",
              "      background-color: #3B4455;\n",
              "      fill: #D2E3FC;\n",
              "    }\n",
              "\n",
              "    [theme=dark] .colab-df-convert:hover {\n",
              "      background-color: #434B5C;\n",
              "      box-shadow: 0px 1px 3px 1px rgba(0, 0, 0, 0.15);\n",
              "      filter: drop-shadow(0px 1px 2px rgba(0, 0, 0, 0.3));\n",
              "      fill: #FFFFFF;\n",
              "    }\n",
              "  </style>\n",
              "\n",
              "      <script>\n",
              "        const buttonEl =\n",
              "          document.querySelector('#df-c130b91b-843b-46ce-8103-23d173fb5cfa button.colab-df-convert');\n",
              "        buttonEl.style.display =\n",
              "          google.colab.kernel.accessAllowed ? 'block' : 'none';\n",
              "\n",
              "        async function convertToInteractive(key) {\n",
              "          const element = document.querySelector('#df-c130b91b-843b-46ce-8103-23d173fb5cfa');\n",
              "          const dataTable =\n",
              "            await google.colab.kernel.invokeFunction('convertToInteractive',\n",
              "                                                     [key], {});\n",
              "          if (!dataTable) return;\n",
              "\n",
              "          const docLinkHtml = 'Like what you see? Visit the ' +\n",
              "            '<a target=\"_blank\" href=https://colab.research.google.com/notebooks/data_table.ipynb>data table notebook</a>'\n",
              "            + ' to learn more about interactive tables.';\n",
              "          element.innerHTML = '';\n",
              "          dataTable['output_type'] = 'display_data';\n",
              "          await google.colab.output.renderOutput(dataTable, element);\n",
              "          const docLink = document.createElement('div');\n",
              "          docLink.innerHTML = docLinkHtml;\n",
              "          element.appendChild(docLink);\n",
              "        }\n",
              "      </script>\n",
              "    </div>\n",
              "  </div>\n",
              "  "
            ]
          },
          "metadata": {},
          "execution_count": 16
        }
      ]
    },
    {
      "cell_type": "code",
      "source": [
        ""
      ],
      "metadata": {
        "id": "mu7cL7OFphwN"
      },
      "execution_count": null,
      "outputs": []
    }
  ]
}